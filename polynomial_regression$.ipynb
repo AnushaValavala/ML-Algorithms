{
  "nbformat": 4,
  "nbformat_minor": 0,
  "metadata": {
    "colab": {
      "provenance": []
    },
    "kernelspec": {
      "name": "python3",
      "display_name": "Python 3"
    },
    "language_info": {
      "name": "python"
    }
  },
  "cells": [
    {
      "cell_type": "code",
      "execution_count": null,
      "metadata": {
        "id": "DsEVB_B3LT1s"
      },
      "outputs": [],
      "source": [
        "import numpy as np\n",
        "import matplotlib.pyplot as plt\n",
        "from sklearn.linear_model import LinearRegression,SGDRegressor\n",
        "from sklearn.preprocessing import PolynomialFeatures,StandardScaler\n",
        "from sklearn.metrics import r2_score\n",
        "from sklearn.pipeline import Pipeline\n",
        "from sklearn.model_selection import train_test_split"
      ]
    },
    {
      "cell_type": "code",
      "source": [
        "x = 6 * np.random.rand(200,1) -3\n",
        "y = 0.8 * x**2 + 0.9 * x + 2 + np.random.rand(200,1)"
      ],
      "metadata": {
        "id": "U_GroeK_LlcD"
      },
      "execution_count": null,
      "outputs": []
    },
    {
      "cell_type": "code",
      "source": [
        "x"
      ],
      "metadata": {
        "colab": {
          "base_uri": "https://localhost:8080/"
        },
        "id": "JvXL9_LULlek",
        "outputId": "3c558cc5-b178-4bf2-97ce-15b581160633"
      },
      "execution_count": null,
      "outputs": [
        {
          "output_type": "execute_result",
          "data": {
            "text/plain": [
              "array([[ 1.00698758],\n",
              "       [ 2.18837421],\n",
              "       [-2.03667213],\n",
              "       [-0.24035709],\n",
              "       [ 1.7490411 ],\n",
              "       [-1.11768916],\n",
              "       [-0.87273943],\n",
              "       [-1.05925274],\n",
              "       [-1.84817055],\n",
              "       [ 0.42980546],\n",
              "       [-0.70706661],\n",
              "       [ 2.92841311],\n",
              "       [-0.32907139],\n",
              "       [-1.35090125],\n",
              "       [-0.94424163],\n",
              "       [-0.04083096],\n",
              "       [-1.65128601],\n",
              "       [-0.36856384],\n",
              "       [ 1.28455023],\n",
              "       [-1.43094881],\n",
              "       [-1.45970395],\n",
              "       [-0.63711328],\n",
              "       [-1.86675818],\n",
              "       [ 1.32176478],\n",
              "       [ 2.31797399],\n",
              "       [-2.6565884 ],\n",
              "       [ 0.18928668],\n",
              "       [ 1.70813302],\n",
              "       [-0.38659203],\n",
              "       [ 2.5925236 ],\n",
              "       [-0.92405939],\n",
              "       [-2.58013459],\n",
              "       [-0.40999818],\n",
              "       [-2.67554578],\n",
              "       [-1.03716991],\n",
              "       [ 2.71091952],\n",
              "       [-1.19155041],\n",
              "       [-2.01996174],\n",
              "       [ 1.11131085],\n",
              "       [-2.2868316 ],\n",
              "       [ 2.38021367],\n",
              "       [-1.79930096],\n",
              "       [ 2.22002235],\n",
              "       [-2.84040645],\n",
              "       [ 0.42512487],\n",
              "       [ 0.99737155],\n",
              "       [-0.98002001],\n",
              "       [-0.33894368],\n",
              "       [ 2.75312935],\n",
              "       [ 1.67541135],\n",
              "       [ 0.94477355],\n",
              "       [ 2.38039374],\n",
              "       [ 0.47360468],\n",
              "       [ 2.81078851],\n",
              "       [-2.01739693],\n",
              "       [ 1.29787607],\n",
              "       [-0.33550879],\n",
              "       [ 0.18987675],\n",
              "       [-1.04008693],\n",
              "       [-1.56703048],\n",
              "       [ 2.11065766],\n",
              "       [-1.34548342],\n",
              "       [-2.00206972],\n",
              "       [-0.0581082 ],\n",
              "       [-0.17115594],\n",
              "       [-0.79782502],\n",
              "       [-2.9975857 ],\n",
              "       [ 2.50788581],\n",
              "       [-0.92527418],\n",
              "       [-1.29662924],\n",
              "       [-1.58590231],\n",
              "       [-2.11515106],\n",
              "       [ 0.13784235],\n",
              "       [ 1.05419717],\n",
              "       [ 1.50735317],\n",
              "       [-0.10818708],\n",
              "       [-1.76158096],\n",
              "       [ 1.78341778],\n",
              "       [ 2.53127871],\n",
              "       [ 1.69576696],\n",
              "       [ 0.43883406],\n",
              "       [-2.97994927],\n",
              "       [ 1.88537285],\n",
              "       [-1.62570473],\n",
              "       [-2.04680357],\n",
              "       [ 0.73837196],\n",
              "       [-2.68744512],\n",
              "       [-1.69582279],\n",
              "       [ 1.74333382],\n",
              "       [-0.72934657],\n",
              "       [ 1.40373613],\n",
              "       [-0.04954069],\n",
              "       [-2.53332806],\n",
              "       [-2.79613548],\n",
              "       [-1.58092927],\n",
              "       [-0.30067449],\n",
              "       [ 1.91781797],\n",
              "       [ 1.76019393],\n",
              "       [ 0.65428094],\n",
              "       [ 1.58039643],\n",
              "       [-2.05416468],\n",
              "       [ 2.93781969],\n",
              "       [ 2.63914188],\n",
              "       [ 1.57042672],\n",
              "       [-1.13966621],\n",
              "       [ 1.93028492],\n",
              "       [-2.71914357],\n",
              "       [ 1.72757838],\n",
              "       [-0.4580461 ],\n",
              "       [ 2.98833887],\n",
              "       [-1.01439641],\n",
              "       [-0.02853166],\n",
              "       [ 1.94891273],\n",
              "       [ 2.15891538],\n",
              "       [-1.4840801 ],\n",
              "       [-1.5166565 ],\n",
              "       [ 2.30453234],\n",
              "       [ 2.59517289],\n",
              "       [-2.48743622],\n",
              "       [-1.41547155],\n",
              "       [ 2.83408719],\n",
              "       [-1.76734354],\n",
              "       [ 1.60020225],\n",
              "       [-1.23567332],\n",
              "       [ 1.98225657],\n",
              "       [ 2.84234943],\n",
              "       [-0.53563264],\n",
              "       [ 0.98905404],\n",
              "       [ 0.38934943],\n",
              "       [ 0.31519926],\n",
              "       [ 2.17702407],\n",
              "       [ 1.40427033],\n",
              "       [ 0.6334041 ],\n",
              "       [ 2.7087356 ],\n",
              "       [-2.36459549],\n",
              "       [ 2.87085043],\n",
              "       [-1.50409614],\n",
              "       [ 1.98887352],\n",
              "       [-1.28559827],\n",
              "       [-1.56619858],\n",
              "       [-2.92177604],\n",
              "       [-1.92036222],\n",
              "       [ 1.84970007],\n",
              "       [-2.83500165],\n",
              "       [-1.61207401],\n",
              "       [ 1.42995391],\n",
              "       [ 1.99971366],\n",
              "       [-2.42578652],\n",
              "       [ 1.85713184],\n",
              "       [-0.78018009],\n",
              "       [ 1.8747599 ],\n",
              "       [-0.86939127],\n",
              "       [-0.59307001],\n",
              "       [-1.48943477],\n",
              "       [ 1.72324838],\n",
              "       [-1.96216123],\n",
              "       [ 1.42463637],\n",
              "       [ 2.70233186],\n",
              "       [-2.41922333],\n",
              "       [ 2.77910519],\n",
              "       [ 1.26846912],\n",
              "       [ 2.32572825],\n",
              "       [-2.31057208],\n",
              "       [ 2.35898436],\n",
              "       [ 1.36001137],\n",
              "       [-2.19545754],\n",
              "       [-0.12919679],\n",
              "       [ 2.95550979],\n",
              "       [ 0.96311328],\n",
              "       [-2.46512791],\n",
              "       [ 2.60871466],\n",
              "       [ 2.18817161],\n",
              "       [ 2.17549309],\n",
              "       [ 0.24953124],\n",
              "       [ 2.26615226],\n",
              "       [-1.74117797],\n",
              "       [ 2.58821607],\n",
              "       [ 0.57983364],\n",
              "       [-0.02212575],\n",
              "       [-1.9112475 ],\n",
              "       [-0.74364881],\n",
              "       [ 0.36445572],\n",
              "       [ 0.72781475],\n",
              "       [-2.16017444],\n",
              "       [-0.74341547],\n",
              "       [ 2.67401773],\n",
              "       [-1.77826521],\n",
              "       [-1.72306989],\n",
              "       [ 0.60424032],\n",
              "       [-0.59189908],\n",
              "       [-1.34914791],\n",
              "       [-0.69011215],\n",
              "       [ 2.2106649 ],\n",
              "       [-2.02833871],\n",
              "       [ 1.70422484],\n",
              "       [ 2.8070296 ],\n",
              "       [ 2.5891553 ],\n",
              "       [-1.77735155],\n",
              "       [-1.85071438],\n",
              "       [ 1.52160738]])"
            ]
          },
          "metadata": {},
          "execution_count": 3
        }
      ]
    },
    {
      "cell_type": "code",
      "source": [
        "y"
      ],
      "metadata": {
        "colab": {
          "base_uri": "https://localhost:8080/"
        },
        "id": "t7iHX7yZLlg3",
        "outputId": "7e443e7f-f47e-4b52-eb07-0a6b5ee7f509"
      },
      "execution_count": null,
      "outputs": [
        {
          "output_type": "execute_result",
          "data": {
            "text/plain": [
              "array([[ 3.94097318],\n",
              "       [ 8.5114088 ],\n",
              "       [ 4.13018673],\n",
              "       [ 2.66793531],\n",
              "       [ 6.72276237],\n",
              "       [ 2.31399189],\n",
              "       [ 2.32086375],\n",
              "       [ 2.88225653],\n",
              "       [ 4.00601434],\n",
              "       [ 2.98080603],\n",
              "       [ 2.38664465],\n",
              "       [11.67620946],\n",
              "       [ 2.40632616],\n",
              "       [ 2.25618431],\n",
              "       [ 2.59605533],\n",
              "       [ 2.5930188 ],\n",
              "       [ 2.74087442],\n",
              "       [ 2.66802654],\n",
              "       [ 4.66635611],\n",
              "       [ 2.93832067],\n",
              "       [ 2.59663416],\n",
              "       [ 1.8356598 ],\n",
              "       [ 3.57031579],\n",
              "       [ 5.0252267 ],\n",
              "       [ 8.88255664],\n",
              "       [ 5.86849596],\n",
              "       [ 2.86590003],\n",
              "       [ 6.65708969],\n",
              "       [ 2.52326416],\n",
              "       [10.37945491],\n",
              "       [ 2.76191581],\n",
              "       [ 5.21569157],\n",
              "       [ 2.08478545],\n",
              "       [ 6.08428298],\n",
              "       [ 1.99892166],\n",
              "       [11.29988054],\n",
              "       [ 2.3502515 ],\n",
              "       [ 3.89401633],\n",
              "       [ 4.58615231],\n",
              "       [ 4.85074042],\n",
              "       [ 9.29205398],\n",
              "       [ 3.07457097],\n",
              "       [ 8.88595137],\n",
              "       [ 6.73633124],\n",
              "       [ 2.76592059],\n",
              "       [ 3.88724612],\n",
              "       [ 2.32190311],\n",
              "       [ 2.52815528],\n",
              "       [11.27979598],\n",
              "       [ 6.71002602],\n",
              "       [ 3.89865273],\n",
              "       [ 9.29289765],\n",
              "       [ 3.18362599],\n",
              "       [11.54508493],\n",
              "       [ 4.33813241],\n",
              "       [ 4.72119489],\n",
              "       [ 2.13874634],\n",
              "       [ 2.35602732],\n",
              "       [ 1.93512469],\n",
              "       [ 2.58282474],\n",
              "       [ 7.47633019],\n",
              "       [ 2.78967785],\n",
              "       [ 3.62701856],\n",
              "       [ 2.12581875],\n",
              "       [ 2.65214735],\n",
              "       [ 2.69187654],\n",
              "       [ 6.94724808],\n",
              "       [10.15339583],\n",
              "       [ 2.6685386 ],\n",
              "       [ 3.13521251],\n",
              "       [ 3.06349055],\n",
              "       [ 4.60991617],\n",
              "       [ 2.7521678 ],\n",
              "       [ 4.24592547],\n",
              "       [ 5.19690607],\n",
              "       [ 2.70742983],\n",
              "       [ 3.51702323],\n",
              "       [ 6.67766932],\n",
              "       [ 9.60892503],\n",
              "       [ 6.34579569],\n",
              "       [ 2.93550978],\n",
              "       [ 7.24087271],\n",
              "       [ 7.05876827],\n",
              "       [ 3.01455427],\n",
              "       [ 3.94067073],\n",
              "       [ 3.29421456],\n",
              "       [ 6.02106736],\n",
              "       [ 3.56109083],\n",
              "       [ 6.34002751],\n",
              "       [ 2.21561628],\n",
              "       [ 5.83316885],\n",
              "       [ 2.66039563],\n",
              "       [ 4.90377634],\n",
              "       [ 6.26294137],\n",
              "       [ 3.08547439],\n",
              "       [ 2.06267158],\n",
              "       [ 7.31601308],\n",
              "       [ 6.47092121],\n",
              "       [ 3.84086746],\n",
              "       [ 5.94884672],\n",
              "       [ 4.47661863],\n",
              "       [12.07377972],\n",
              "       [10.66727041],\n",
              "       [ 6.23252827],\n",
              "       [ 3.00405006],\n",
              "       [ 7.47799522],\n",
              "       [ 5.97951939],\n",
              "       [ 6.87274037],\n",
              "       [ 1.77287962],\n",
              "       [12.47586882],\n",
              "       [ 2.26317841],\n",
              "       [ 2.11201609],\n",
              "       [ 7.50443669],\n",
              "       [ 8.16770072],\n",
              "       [ 2.87780921],\n",
              "       [ 2.98962819],\n",
              "       [ 8.54954649],\n",
              "       [10.41083633],\n",
              "       [ 5.60470674],\n",
              "       [ 3.14851026],\n",
              "       [11.3110254 ],\n",
              "       [ 2.92341444],\n",
              "       [ 5.87696359],\n",
              "       [ 2.16122994],\n",
              "       [ 7.09123485],\n",
              "       [11.1322215 ],\n",
              "       [ 1.98103678],\n",
              "       [ 4.22514703],\n",
              "       [ 3.32279118],\n",
              "       [ 2.80791244],\n",
              "       [ 8.66900746],\n",
              "       [ 5.45292485],\n",
              "       [ 3.87557248],\n",
              "       [10.85831304],\n",
              "       [ 4.81291259],\n",
              "       [11.84896052],\n",
              "       [ 2.65046491],\n",
              "       [ 7.66444879],\n",
              "       [ 3.04576705],\n",
              "       [ 2.82017869],\n",
              "       [ 6.24182183],\n",
              "       [ 3.40539919],\n",
              "       [ 6.78454021],\n",
              "       [ 6.65525798],\n",
              "       [ 2.91246074],\n",
              "       [ 5.06393511],\n",
              "       [ 7.04749331],\n",
              "       [ 4.90439361],\n",
              "       [ 6.69089941],\n",
              "       [ 2.0140969 ],\n",
              "       [ 7.04478035],\n",
              "       [ 2.63716014],\n",
              "       [ 2.16968828],\n",
              "       [ 2.88003778],\n",
              "       [ 6.73538555],\n",
              "       [ 4.03814065],\n",
              "       [ 5.1991494 ],\n",
              "       [11.13116834],\n",
              "       [ 5.26166626],\n",
              "       [11.41161899],\n",
              "       [ 5.21446267],\n",
              "       [ 9.39338038],\n",
              "       [ 4.276573  ],\n",
              "       [ 9.33346139],\n",
              "       [ 5.39512226],\n",
              "       [ 4.7574789 ],\n",
              "       [ 2.00789464],\n",
              "       [12.32135027],\n",
              "       [ 4.13408663],\n",
              "       [ 5.43036403],\n",
              "       [10.65693317],\n",
              "       [ 8.13312787],\n",
              "       [ 8.55342264],\n",
              "       [ 2.48241603],\n",
              "       [ 8.45092427],\n",
              "       [ 3.37727704],\n",
              "       [ 9.69431987],\n",
              "       [ 2.93481268],\n",
              "       [ 2.51105399],\n",
              "       [ 3.63611257],\n",
              "       [ 2.47258943],\n",
              "       [ 3.10367176],\n",
              "       [ 4.01044419],\n",
              "       [ 4.12550579],\n",
              "       [ 2.61515923],\n",
              "       [10.68125287],\n",
              "       [ 3.6844066 ],\n",
              "       [ 3.52539564],\n",
              "       [ 3.7531203 ],\n",
              "       [ 2.04981988],\n",
              "       [ 2.35569774],\n",
              "       [ 2.70406459],\n",
              "       [ 8.16800005],\n",
              "       [ 4.1249693 ],\n",
              "       [ 6.79776796],\n",
              "       [11.13947209],\n",
              "       [ 9.70166938],\n",
              "       [ 3.85045307],\n",
              "       [ 3.14955534],\n",
              "       [ 5.88753027]])"
            ]
          },
          "metadata": {},
          "execution_count": 4
        }
      ]
    },
    {
      "cell_type": "code",
      "source": [
        "plt.plot(x,y,'b. ')"
      ],
      "metadata": {
        "colab": {
          "base_uri": "https://localhost:8080/",
          "height": 448
        },
        "id": "XCNTDYwULli8",
        "outputId": "e9d048c6-44ed-423b-f1ba-d46aeccc2871"
      },
      "execution_count": null,
      "outputs": [
        {
          "output_type": "execute_result",
          "data": {
            "text/plain": [
              "[<matplotlib.lines.Line2D at 0x7ec39057ef50>]"
            ]
          },
          "metadata": {},
          "execution_count": 5
        },
        {
          "output_type": "display_data",
          "data": {
            "text/plain": [
              "<Figure size 640x480 with 1 Axes>"
            ],
            "image/png": "[encoded data removed]"
          },
          "metadata": {}
        }
      ]
    },
    {
      "cell_type": "code",
      "source": [
        "X_train, X_test, y_train, y_test  = train_test_split(x,y,test_size = 0.2,random_state = 42)"
      ],
      "metadata": {
        "id": "T6LV2e0gLllT"
      },
      "execution_count": null,
      "outputs": []
    },
    {
      "cell_type": "code",
      "source": [
        "X_train"
      ],
      "metadata": {
        "colab": {
          "base_uri": "https://localhost:8080/"
        },
        "id": "KWU9Sme0Llnc",
        "outputId": "9d8efff5-10fd-4312-b3c5-76444dc262ad"
      },
      "execution_count": null,
      "outputs": [
        {
          "output_type": "execute_result",
          "data": {
            "text/plain": [
              "array([[ 1.69576696],\n",
              "       [-1.77735155],\n",
              "       [ 1.11131085],\n",
              "       [ 2.31797399],\n",
              "       [ 1.60020225],\n",
              "       [ 2.8070296 ],\n",
              "       [ 2.5925236 ],\n",
              "       [-1.43094881],\n",
              "       [-2.83500165],\n",
              "       [-2.68744512],\n",
              "       [-1.4840801 ],\n",
              "       [ 0.24953124],\n",
              "       [-1.11768916],\n",
              "       [-0.53563264],\n",
              "       [ 2.59517289],\n",
              "       [ 1.05419717],\n",
              "       [-2.92177604],\n",
              "       [ 0.65428094],\n",
              "       [ 2.17549309],\n",
              "       [ 1.91781797],\n",
              "       [-2.46512791],\n",
              "       [ 1.76019393],\n",
              "       [-2.58013459],\n",
              "       [-0.32907139],\n",
              "       [ 2.71091952],\n",
              "       [-1.41547155],\n",
              "       [ 2.22002235],\n",
              "       [-0.59189908],\n",
              "       [ 1.40373613],\n",
              "       [-1.50409614],\n",
              "       [ 2.38039374],\n",
              "       [ 0.98905404],\n",
              "       [-2.31057208],\n",
              "       [-1.79930096],\n",
              "       [-2.48743622],\n",
              "       [ 2.15891538],\n",
              "       [ 0.18928668],\n",
              "       [-1.56619858],\n",
              "       [-2.05416468],\n",
              "       [-0.02853166],\n",
              "       [-2.03667213],\n",
              "       [ 1.78341778],\n",
              "       [-0.98002001],\n",
              "       [-1.72306989],\n",
              "       [-0.69011215],\n",
              "       [ 0.73837196],\n",
              "       [ 2.32572825],\n",
              "       [-1.19155041],\n",
              "       [-1.34914791],\n",
              "       [-1.34548342],\n",
              "       [-1.86675818],\n",
              "       [-1.92036222],\n",
              "       [ 2.93781969],\n",
              "       [-2.67554578],\n",
              "       [ 2.92841311],\n",
              "       [ 1.70422484],\n",
              "       [ 2.77910519],\n",
              "       [-0.87273943],\n",
              "       [ 1.70813302],\n",
              "       [ 2.83408719],\n",
              "       [ 1.7490411 ],\n",
              "       [-0.40999818],\n",
              "       [ 1.84970007],\n",
              "       [ 1.42995391],\n",
              "       [ 2.98833887],\n",
              "       [-1.61207401],\n",
              "       [-0.70706661],\n",
              "       [-2.00206972],\n",
              "       [ 1.94891273],\n",
              "       [ 1.99971366],\n",
              "       [-0.12919679],\n",
              "       [ 1.00698758],\n",
              "       [-1.85071438],\n",
              "       [-1.48943477],\n",
              "       [-1.58590231],\n",
              "       [-1.23567332],\n",
              "       [-0.17115594],\n",
              "       [ 0.42512487],\n",
              "       [ 2.35898436],\n",
              "       [-0.38659203],\n",
              "       [ 2.38021367],\n",
              "       [-0.4580461 ],\n",
              "       [-1.96216123],\n",
              "       [ 1.42463637],\n",
              "       [-2.6565884 ],\n",
              "       [ 1.32176478],\n",
              "       [-0.74341547],\n",
              "       [-2.42578652],\n",
              "       [-2.97994927],\n",
              "       [-2.2868316 ],\n",
              "       [ 0.96311328],\n",
              "       [-0.33894368],\n",
              "       [-1.58092927],\n",
              "       [ 1.72324838],\n",
              "       [-2.84040645],\n",
              "       [-1.28559827],\n",
              "       [-0.24035709],\n",
              "       [ 1.93028492],\n",
              "       [ 2.81078851],\n",
              "       [ 2.7087356 ],\n",
              "       [-0.74364881],\n",
              "       [-0.02212575],\n",
              "       [ 2.67401773],\n",
              "       [ 1.67541135],\n",
              "       [ 0.43883406],\n",
              "       [-1.03716991],\n",
              "       [-1.05925274],\n",
              "       [-1.01439641],\n",
              "       [-0.04954069],\n",
              "       [-1.62570473],\n",
              "       [ 2.58821607],\n",
              "       [ 0.36445572],\n",
              "       [-0.72934657],\n",
              "       [-1.84817055],\n",
              "       [-1.35090125],\n",
              "       [-1.56703048],\n",
              "       [ 2.18817161],\n",
              "       [ 1.40427033],\n",
              "       [-0.36856384],\n",
              "       [ 0.13784235],\n",
              "       [-1.74117797],\n",
              "       [-2.36459549],\n",
              "       [ 2.95550979],\n",
              "       [-2.16017444],\n",
              "       [-0.0581082 ],\n",
              "       [-2.01739693],\n",
              "       [ 1.72757838],\n",
              "       [ 0.94477355],\n",
              "       [ 2.5891553 ],\n",
              "       [-1.04008693],\n",
              "       [ 2.75312935],\n",
              "       [ 1.74333382],\n",
              "       [-0.63711328],\n",
              "       [ 0.18987675],\n",
              "       [ 1.26846912],\n",
              "       [ 2.2106649 ],\n",
              "       [ 0.31519926],\n",
              "       [-2.01996174],\n",
              "       [ 2.70233186],\n",
              "       [-2.02833871],\n",
              "       [ 2.18837421],\n",
              "       [ 0.47360468],\n",
              "       [-0.78018009],\n",
              "       [ 2.17702407],\n",
              "       [-0.86939127],\n",
              "       [ 1.57042672],\n",
              "       [ 1.58039643],\n",
              "       [ 2.30453234],\n",
              "       [-1.69582279],\n",
              "       [ 1.50735317],\n",
              "       [-1.76734354],\n",
              "       [ 1.52160738],\n",
              "       [-1.45970395],\n",
              "       [ 0.60424032],\n",
              "       [-2.11515106],\n",
              "       [-2.71914357],\n",
              "       [-0.94424163],\n",
              "       [-2.53332806],\n",
              "       [-1.9112475 ],\n",
              "       [ 2.63914188]])"
            ]
          },
          "metadata": {},
          "execution_count": 8
        }
      ]
    },
    {
      "cell_type": "code",
      "source": [
        "lr = LinearRegression()\n",
        "lr.fit(X_train,y_train)"
      ],
      "metadata": {
        "colab": {
          "base_uri": "https://localhost:8080/",
          "height": 74
        },
        "id": "Wr9NKzy-NJYZ",
        "outputId": "7c9fa1fc-9141-4db1-b3d4-73a3f6185114"
      },
      "execution_count": null,
      "outputs": [
        {
          "output_type": "execute_result",
          "data": {
            "text/plain": [
              "LinearRegression()"
            ],
            "text/html": [
              "<style>#sk-container-id-1 {color: black;background-color: white;}#sk-container-id-1 pre{padding: 0;}#sk-container-id-1 div.sk-toggleable {background-color: white;}#sk-container-id-1 label.sk-toggleable__label {cursor: pointer;display: block;width: 100%;margin-bottom: 0;padding: 0.3em;box-sizing: border-box;text-align: center;}#sk-container-id-1 label.sk-toggleable__label-arrow:before {content: \"▸\";float: left;margin-right: 0.25em;color: #696969;}#sk-container-id-1 label.sk-toggleable__label-arrow:hover:before {color: black;}#sk-container-id-1 div.sk-estimator:hover label.sk-toggleable__label-arrow:before {color: black;}#sk-container-id-1 div.sk-toggleable__content {max-height: 0;max-width: 0;overflow: hidden;text-align: left;background-color: #f0f8ff;}#sk-container-id-1 div.sk-toggleable__content pre {margin: 0.2em;color: black;border-radius: 0.25em;background-color: #f0f8ff;}#sk-container-id-1 input.sk-toggleable__control:checked~div.sk-toggleable__content {max-height: 200px;max-width: 100%;overflow: auto;}#sk-container-id-1 input.sk-toggleable__control:checked~label.sk-toggleable__label-arrow:before {content: \"▾\";}#sk-container-id-1 div.sk-estimator input.sk-toggleable__control:checked~label.sk-toggleable__label {background-color: #d4ebff;}#sk-container-id-1 div.sk-label input.sk-toggleable__control:checked~label.sk-toggleable__label {background-color: #d4ebff;}#sk-container-id-1 input.sk-hidden--visually {border: 0;clip: rect(1px 1px 1px 1px);clip: rect(1px, 1px, 1px, 1px);height: 1px;margin: -1px;overflow: hidden;padding: 0;position: absolute;width: 1px;}#sk-container-id-1 div.sk-estimator {font-family: monospace;background-color: #f0f8ff;border: 1px dotted black;border-radius: 0.25em;box-sizing: border-box;margin-bottom: 0.5em;}#sk-container-id-1 div.sk-estimator:hover {background-color: #d4ebff;}#sk-container-id-1 div.sk-parallel-item::after {content: \"\";width: 100%;border-bottom: 1px solid gray;flex-grow: 1;}#sk-container-id-1 div.sk-label:hover label.sk-toggleable__label {background-color: #d4ebff;}#sk-container-id-1 div.sk-serial::before {content: \"\";position: absolute;border-left: 1px solid gray;box-sizing: border-box;top: 0;bottom: 0;left: 50%;z-index: 0;}#sk-container-id-1 div.sk-serial {display: flex;flex-direction: column;align-items: center;background-color: white;padding-right: 0.2em;padding-left: 0.2em;position: relative;}#sk-container-id-1 div.sk-item {position: relative;z-index: 1;}#sk-container-id-1 div.sk-parallel {display: flex;align-items: stretch;justify-content: center;background-color: white;position: relative;}#sk-container-id-1 div.sk-item::before, #sk-container-id-1 div.sk-parallel-item::before {content: \"\";position: absolute;border-left: 1px solid gray;box-sizing: border-box;top: 0;bottom: 0;left: 50%;z-index: -1;}#sk-container-id-1 div.sk-parallel-item {display: flex;flex-direction: column;z-index: 1;position: relative;background-color: white;}#sk-container-id-1 div.sk-parallel-item:first-child::after {align-self: flex-end;width: 50%;}#sk-container-id-1 div.sk-parallel-item:last-child::after {align-self: flex-start;width: 50%;}#sk-container-id-1 div.sk-parallel-item:only-child::after {width: 0;}#sk-container-id-1 div.sk-dashed-wrapped {border: 1px dashed gray;margin: 0 0.4em 0.5em 0.4em;box-sizing: border-box;padding-bottom: 0.4em;background-color: white;}#sk-container-id-1 div.sk-label label {font-family: monospace;font-weight: bold;display: inline-block;line-height: 1.2em;}#sk-container-id-1 div.sk-label-container {text-align: center;}#sk-container-id-1 div.sk-container {/* jupyter's `normalize.less` sets `[hidden] { display: none; }` but bootstrap.min.css set `[hidden] { display: none !important; }` so we also need the `!important` here to be able to override the default hidden behavior on the sphinx rendered scikit-learn.org. See: https://github.com/scikit-learn/scikit-learn/issues/21755 */display: inline-block !important;position: relative;}#sk-container-id-1 div.sk-text-repr-fallback {display: none;}</style><div id=\"sk-container-id-1\" class=\"sk-top-container\"><div class=\"sk-text-repr-fallback\"><pre>LinearRegression()</pre><b>In a Jupyter environment, please rerun this cell to show the HTML representation or trust the notebook. <br />On GitHub, the HTML representation is unable to render, please try loading this page with nbviewer.org.</b></div><div class=\"sk-container\" hidden><div class=\"sk-item\"><div class=\"sk-estimator sk-toggleable\"><input class=\"sk-toggleable__control sk-hidden--visually\" id=\"sk-estimator-id-1\" type=\"checkbox\" checked><label for=\"sk-estimator-id-1\" class=\"sk-toggleable__label sk-toggleable__label-arrow\">LinearRegression</label><div class=\"sk-toggleable__content\"><pre>LinearRegression()</pre></div></div></div></div></div>"
            ]
          },
          "metadata": {},
          "execution_count": 16
        }
      ]
    },
    {
      "cell_type": "code",
      "source": [
        "y_pred = lr.predict(X_test)\n",
        "r2_score (y_test, y_pred)"
      ],
      "metadata": {
        "colab": {
          "base_uri": "https://localhost:8080/"
        },
        "id": "5p0ZLKRvLlp2",
        "outputId": "a9ef1cbe-b931-4e3e-cfa7-e1824aca9f11"
      },
      "execution_count": null,
      "outputs": [
        {
          "output_type": "execute_result",
          "data": {
            "text/plain": [
              "0.4123538367851125"
            ]
          },
          "metadata": {},
          "execution_count": 17
        }
      ]
    },
    {
      "cell_type": "code",
      "source": [
        "plt.plot(X_train,lr.predict(X_train), color = 'r')\n",
        "plt.plot(x,y,\"b .\")"
      ],
      "metadata": {
        "colab": {
          "base_uri": "https://localhost:8080/",
          "height": 448
        },
        "id": "sfVMeCjZLlso",
        "outputId": "289e1c97-a5db-4bab-a1fe-e20e4f91a976"
      },
      "execution_count": null,
      "outputs": [
        {
          "output_type": "execute_result",
          "data": {
            "text/plain": [
              "[<matplotlib.lines.Line2D at 0x7ec38e384370>]"
            ]
          },
          "metadata": {},
          "execution_count": 18
        },
        {
          "output_type": "display_data",
          "data": {
            "text/plain": [
              "<Figure size 640x480 with 1 Axes>"
            ],
            "image/png": "[encoded data removed]"
          },
          "metadata": {}
        }
      ]
    },
    {
      "cell_type": "code",
      "source": [
        "# we will apply the polynomial regreesion\n",
        "poly=PolynomialFeatures(degree=2,include_bias=True)\n",
        "X_train_tran  = poly.fit_transform(X_train)\n",
        "X_test_tran  = poly.transform(X_test)"
      ],
      "metadata": {
        "id": "IGHaz5m6LlyK"
      },
      "execution_count": null,
      "outputs": []
    },
    {
      "cell_type": "code",
      "source": [
        "X_train_tran"
      ],
      "metadata": {
        "colab": {
          "base_uri": "https://localhost:8080/"
        },
        "id": "Oa12R_D0OE6k",
        "outputId": "89e90db5-e557-46c9-d0b6-7ab7197243e7"
      },
      "execution_count": null,
      "outputs": [
        {
          "output_type": "execute_result",
          "data": {
            "text/plain": [
              "array([[ 1.00000000e+00,  1.69576696e+00,  2.87562557e+00],\n",
              "       [ 1.00000000e+00, -1.77735155e+00,  3.15897855e+00],\n",
              "       [ 1.00000000e+00,  1.11131085e+00,  1.23501181e+00],\n",
              "       [ 1.00000000e+00,  2.31797399e+00,  5.37300343e+00],\n",
              "       [ 1.00000000e+00,  1.60020225e+00,  2.56064725e+00],\n",
              "       [ 1.00000000e+00,  2.80702960e+00,  7.87941518e+00],\n",
              "       [ 1.00000000e+00,  2.59252360e+00,  6.72117861e+00],\n",
              "       [ 1.00000000e+00, -1.43094881e+00,  2.04761451e+00],\n",
              "       [ 1.00000000e+00, -2.83500165e+00,  8.03723436e+00],\n",
              "       [ 1.00000000e+00, -2.68744512e+00,  7.22236125e+00],\n",
              "       [ 1.00000000e+00, -1.48408010e+00,  2.20249373e+00],\n",
              "       [ 1.00000000e+00,  2.49531238e-01,  6.22658387e-02],\n",
              "       [ 1.00000000e+00, -1.11768916e+00,  1.24922905e+00],\n",
              "       [ 1.00000000e+00, -5.35632642e-01,  2.86902328e-01],\n",
              "       [ 1.00000000e+00,  2.59517289e+00,  6.73492233e+00],\n",
              "       [ 1.00000000e+00,  1.05419717e+00,  1.11133167e+00],\n",
              "       [ 1.00000000e+00, -2.92177604e+00,  8.53677524e+00],\n",
              "       [ 1.00000000e+00,  6.54280941e-01,  4.28083549e-01],\n",
              "       [ 1.00000000e+00,  2.17549309e+00,  4.73277017e+00],\n",
              "       [ 1.00000000e+00,  1.91781797e+00,  3.67802575e+00],\n",
              "       [ 1.00000000e+00, -2.46512791e+00,  6.07685561e+00],\n",
              "       [ 1.00000000e+00,  1.76019393e+00,  3.09828267e+00],\n",
              "       [ 1.00000000e+00, -2.58013459e+00,  6.65709450e+00],\n",
              "       [ 1.00000000e+00, -3.29071392e-01,  1.08287981e-01],\n",
              "       [ 1.00000000e+00,  2.71091952e+00,  7.34908463e+00],\n",
              "       [ 1.00000000e+00, -1.41547155e+00,  2.00355971e+00],\n",
              "       [ 1.00000000e+00,  2.22002235e+00,  4.92849923e+00],\n",
              "       [ 1.00000000e+00, -5.91899076e-01,  3.50344516e-01],\n",
              "       [ 1.00000000e+00,  1.40373613e+00,  1.97047514e+00],\n",
              "       [ 1.00000000e+00, -1.50409614e+00,  2.26230518e+00],\n",
              "       [ 1.00000000e+00,  2.38039374e+00,  5.66627434e+00],\n",
              "       [ 1.00000000e+00,  9.89054036e-01,  9.78227886e-01],\n",
              "       [ 1.00000000e+00, -2.31057208e+00,  5.33874334e+00],\n",
              "       [ 1.00000000e+00, -1.79930096e+00,  3.23748394e+00],\n",
              "       [ 1.00000000e+00, -2.48743622e+00,  6.18733894e+00],\n",
              "       [ 1.00000000e+00,  2.15891538e+00,  4.66091562e+00],\n",
              "       [ 1.00000000e+00,  1.89286677e-01,  3.58294460e-02],\n",
              "       [ 1.00000000e+00, -1.56619858e+00,  2.45297800e+00],\n",
              "       [ 1.00000000e+00, -2.05416468e+00,  4.21959254e+00],\n",
              "       [ 1.00000000e+00, -2.85316649e-02,  8.14055900e-04],\n",
              "       [ 1.00000000e+00, -2.03667213e+00,  4.14803336e+00],\n",
              "       [ 1.00000000e+00,  1.78341778e+00,  3.18057899e+00],\n",
              "       [ 1.00000000e+00, -9.80020009e-01,  9.60439218e-01],\n",
              "       [ 1.00000000e+00, -1.72306989e+00,  2.96896985e+00],\n",
              "       [ 1.00000000e+00, -6.90112150e-01,  4.76254780e-01],\n",
              "       [ 1.00000000e+00,  7.38371957e-01,  5.45193147e-01],\n",
              "       [ 1.00000000e+00,  2.32572825e+00,  5.40901188e+00],\n",
              "       [ 1.00000000e+00, -1.19155041e+00,  1.41979238e+00],\n",
              "       [ 1.00000000e+00, -1.34914791e+00,  1.82020007e+00],\n",
              "       [ 1.00000000e+00, -1.34548342e+00,  1.81032563e+00],\n",
              "       [ 1.00000000e+00, -1.86675818e+00,  3.48478611e+00],\n",
              "       [ 1.00000000e+00, -1.92036222e+00,  3.68779106e+00],\n",
              "       [ 1.00000000e+00,  2.93781969e+00,  8.63078452e+00],\n",
              "       [ 1.00000000e+00, -2.67554578e+00,  7.15854520e+00],\n",
              "       [ 1.00000000e+00,  2.92841311e+00,  8.57560334e+00],\n",
              "       [ 1.00000000e+00,  1.70422484e+00,  2.90438232e+00],\n",
              "       [ 1.00000000e+00,  2.77910519e+00,  7.72342565e+00],\n",
              "       [ 1.00000000e+00, -8.72739429e-01,  7.61674110e-01],\n",
              "       [ 1.00000000e+00,  1.70813302e+00,  2.91771843e+00],\n",
              "       [ 1.00000000e+00,  2.83408719e+00,  8.03205020e+00],\n",
              "       [ 1.00000000e+00,  1.74904110e+00,  3.05914476e+00],\n",
              "       [ 1.00000000e+00, -4.09998178e-01,  1.68098506e-01],\n",
              "       [ 1.00000000e+00,  1.84970007e+00,  3.42139037e+00],\n",
              "       [ 1.00000000e+00,  1.42995391e+00,  2.04476819e+00],\n",
              "       [ 1.00000000e+00,  2.98833887e+00,  8.93016918e+00],\n",
              "       [ 1.00000000e+00, -1.61207401e+00,  2.59878262e+00],\n",
              "       [ 1.00000000e+00, -7.07066613e-01,  4.99943195e-01],\n",
              "       [ 1.00000000e+00, -2.00206972e+00,  4.00828315e+00],\n",
              "       [ 1.00000000e+00,  1.94891273e+00,  3.79826085e+00],\n",
              "       [ 1.00000000e+00,  1.99971366e+00,  3.99885470e+00],\n",
              "       [ 1.00000000e+00, -1.29196794e-01,  1.66918115e-02],\n",
              "       [ 1.00000000e+00,  1.00698758e+00,  1.01402399e+00],\n",
              "       [ 1.00000000e+00, -1.85071438e+00,  3.42514372e+00],\n",
              "       [ 1.00000000e+00, -1.48943477e+00,  2.21841593e+00],\n",
              "       [ 1.00000000e+00, -1.58590231e+00,  2.51508613e+00],\n",
              "       [ 1.00000000e+00, -1.23567332e+00,  1.52688855e+00],\n",
              "       [ 1.00000000e+00, -1.71155936e-01,  2.92943545e-02],\n",
              "       [ 1.00000000e+00,  4.25124867e-01,  1.80731152e-01],\n",
              "       [ 1.00000000e+00,  2.35898436e+00,  5.56480722e+00],\n",
              "       [ 1.00000000e+00, -3.86592033e-01,  1.49453400e-01],\n",
              "       [ 1.00000000e+00,  2.38021367e+00,  5.66541713e+00],\n",
              "       [ 1.00000000e+00, -4.58046104e-01,  2.09806234e-01],\n",
              "       [ 1.00000000e+00, -1.96216123e+00,  3.85007668e+00],\n",
              "       [ 1.00000000e+00,  1.42463637e+00,  2.02958878e+00],\n",
              "       [ 1.00000000e+00, -2.65658840e+00,  7.05746192e+00],\n",
              "       [ 1.00000000e+00,  1.32176478e+00,  1.74706214e+00],\n",
              "       [ 1.00000000e+00, -7.43415472e-01,  5.52666564e-01],\n",
              "       [ 1.00000000e+00, -2.42578652e+00,  5.88444026e+00],\n",
              "       [ 1.00000000e+00, -2.97994927e+00,  8.88009765e+00],\n",
              "       [ 1.00000000e+00, -2.28683160e+00,  5.22959878e+00],\n",
              "       [ 1.00000000e+00,  9.63113285e-01,  9.27587199e-01],\n",
              "       [ 1.00000000e+00, -3.38943682e-01,  1.14882820e-01],\n",
              "       [ 1.00000000e+00, -1.58092927e+00,  2.49933735e+00],\n",
              "       [ 1.00000000e+00,  1.72324838e+00,  2.96958499e+00],\n",
              "       [ 1.00000000e+00, -2.84040645e+00,  8.06790879e+00],\n",
              "       [ 1.00000000e+00, -1.28559827e+00,  1.65276290e+00],\n",
              "       [ 1.00000000e+00, -2.40357088e-01,  5.77715298e-02],\n",
              "       [ 1.00000000e+00,  1.93028492e+00,  3.72599986e+00],\n",
              "       [ 1.00000000e+00,  2.81078851e+00,  7.90053202e+00],\n",
              "       [ 1.00000000e+00,  2.70873560e+00,  7.33724854e+00],\n",
              "       [ 1.00000000e+00, -7.43648814e-01,  5.53013558e-01],\n",
              "       [ 1.00000000e+00, -2.21257538e-02,  4.89548979e-04],\n",
              "       [ 1.00000000e+00,  2.67401773e+00,  7.15037084e+00],\n",
              "       [ 1.00000000e+00,  1.67541135e+00,  2.80700321e+00],\n",
              "       [ 1.00000000e+00,  4.38834057e-01,  1.92575329e-01],\n",
              "       [ 1.00000000e+00, -1.03716991e+00,  1.07572143e+00],\n",
              "       [ 1.00000000e+00, -1.05925274e+00,  1.12201636e+00],\n",
              "       [ 1.00000000e+00, -1.01439641e+00,  1.02900007e+00],\n",
              "       [ 1.00000000e+00, -4.95406922e-02,  2.45428019e-03],\n",
              "       [ 1.00000000e+00, -1.62570473e+00,  2.64291586e+00],\n",
              "       [ 1.00000000e+00,  2.58821607e+00,  6.69886243e+00],\n",
              "       [ 1.00000000e+00,  3.64455721e-01,  1.32827972e-01],\n",
              "       [ 1.00000000e+00, -7.29346569e-01,  5.31946417e-01],\n",
              "       [ 1.00000000e+00, -1.84817055e+00,  3.41573440e+00],\n",
              "       [ 1.00000000e+00, -1.35090125e+00,  1.82493418e+00],\n",
              "       [ 1.00000000e+00, -1.56703048e+00,  2.45558451e+00],\n",
              "       [ 1.00000000e+00,  2.18817161e+00,  4.78809498e+00],\n",
              "       [ 1.00000000e+00,  1.40427033e+00,  1.97197515e+00],\n",
              "       [ 1.00000000e+00, -3.68563839e-01,  1.35839303e-01],\n",
              "       [ 1.00000000e+00,  1.37842349e-01,  1.90005133e-02],\n",
              "       [ 1.00000000e+00, -1.74117797e+00,  3.03170073e+00],\n",
              "       [ 1.00000000e+00, -2.36459549e+00,  5.59131181e+00],\n",
              "       [ 1.00000000e+00,  2.95550979e+00,  8.73503811e+00],\n",
              "       [ 1.00000000e+00, -2.16017444e+00,  4.66635361e+00],\n",
              "       [ 1.00000000e+00, -5.81081960e-02,  3.37656244e-03],\n",
              "       [ 1.00000000e+00, -2.01739693e+00,  4.06989038e+00],\n",
              "       [ 1.00000000e+00,  1.72757838e+00,  2.98452706e+00],\n",
              "       [ 1.00000000e+00,  9.44773547e-01,  8.92597056e-01],\n",
              "       [ 1.00000000e+00,  2.58915530e+00,  6.70372515e+00],\n",
              "       [ 1.00000000e+00, -1.04008693e+00,  1.08178082e+00],\n",
              "       [ 1.00000000e+00,  2.75312935e+00,  7.57972119e+00],\n",
              "       [ 1.00000000e+00,  1.74333382e+00,  3.03921282e+00],\n",
              "       [ 1.00000000e+00, -6.37113278e-01,  4.05913329e-01],\n",
              "       [ 1.00000000e+00,  1.89876748e-01,  3.60531796e-02],\n",
              "       [ 1.00000000e+00,  1.26846912e+00,  1.60901392e+00],\n",
              "       [ 1.00000000e+00,  2.21066490e+00,  4.88703931e+00],\n",
              "       [ 1.00000000e+00,  3.15199259e-01,  9.93505731e-02],\n",
              "       [ 1.00000000e+00, -2.01996174e+00,  4.08024543e+00],\n",
              "       [ 1.00000000e+00,  2.70233186e+00,  7.30259746e+00],\n",
              "       [ 1.00000000e+00, -2.02833871e+00,  4.11415792e+00],\n",
              "       [ 1.00000000e+00,  2.18837421e+00,  4.78898168e+00],\n",
              "       [ 1.00000000e+00,  4.73604681e-01,  2.24301394e-01],\n",
              "       [ 1.00000000e+00, -7.80180094e-01,  6.08680979e-01],\n",
              "       [ 1.00000000e+00,  2.17702407e+00,  4.73943380e+00],\n",
              "       [ 1.00000000e+00, -8.69391272e-01,  7.55841184e-01],\n",
              "       [ 1.00000000e+00,  1.57042672e+00,  2.46624009e+00],\n",
              "       [ 1.00000000e+00,  1.58039643e+00,  2.49765289e+00],\n",
              "       [ 1.00000000e+00,  2.30453234e+00,  5.31086931e+00],\n",
              "       [ 1.00000000e+00, -1.69582279e+00,  2.87581492e+00],\n",
              "       [ 1.00000000e+00,  1.50735317e+00,  2.27211359e+00],\n",
              "       [ 1.00000000e+00, -1.76734354e+00,  3.12350317e+00],\n",
              "       [ 1.00000000e+00,  1.52160738e+00,  2.31528903e+00],\n",
              "       [ 1.00000000e+00, -1.45970395e+00,  2.13073562e+00],\n",
              "       [ 1.00000000e+00,  6.04240318e-01,  3.65106362e-01],\n",
              "       [ 1.00000000e+00, -2.11515106e+00,  4.47386400e+00],\n",
              "       [ 1.00000000e+00, -2.71914357e+00,  7.39374173e+00],\n",
              "       [ 1.00000000e+00, -9.44241630e-01,  8.91592255e-01],\n",
              "       [ 1.00000000e+00, -2.53332806e+00,  6.41775108e+00],\n",
              "       [ 1.00000000e+00, -1.91124750e+00,  3.65286702e+00],\n",
              "       [ 1.00000000e+00,  2.63914188e+00,  6.96506986e+00]])"
            ]
          },
          "metadata": {},
          "execution_count": 21
        }
      ]
    },
    {
      "cell_type": "code",
      "source": [
        "X_test_tran"
      ],
      "metadata": {
        "colab": {
          "base_uri": "https://localhost:8080/"
        },
        "id": "TpJtDGpwOE3M",
        "outputId": "bc4bad53-7f75-4e81-de02-1c07d2d5fa9d"
      },
      "execution_count": null,
      "outputs": [
        {
          "output_type": "execute_result",
          "data": {
            "text/plain": [
              "array([[ 1.00000000e+00, -3.00674491e-01,  9.04051495e-02],\n",
              "       [ 1.00000000e+00, -4.08309597e-02,  1.66716727e-03],\n",
              "       [ 1.00000000e+00, -9.24059394e-01,  8.53885763e-01],\n",
              "       [ 1.00000000e+00, -2.41922333e+00,  5.85264153e+00],\n",
              "       [ 1.00000000e+00,  3.89349429e-01,  1.51592978e-01],\n",
              "       [ 1.00000000e+00, -1.51665650e+00,  2.30024694e+00],\n",
              "       [ 1.00000000e+00, -1.29662924e+00,  1.68124738e+00],\n",
              "       [ 1.00000000e+00,  2.60871466e+00,  6.80539217e+00],\n",
              "       [ 1.00000000e+00,  2.26615226e+00,  5.13544608e+00],\n",
              "       [ 1.00000000e+00,  9.97371553e-01,  9.94750015e-01],\n",
              "       [ 1.00000000e+00, -2.99758570e+00,  8.98552003e+00],\n",
              "       [ 1.00000000e+00,  7.27814748e-01,  5.29714307e-01],\n",
              "       [ 1.00000000e+00, -2.19545754e+00,  4.82003379e+00],\n",
              "       [ 1.00000000e+00,  2.53127871e+00,  6.40737191e+00],\n",
              "       [ 1.00000000e+00, -1.77826521e+00,  3.16222714e+00],\n",
              "       [ 1.00000000e+00,  5.79833635e-01,  3.36207045e-01],\n",
              "       [ 1.00000000e+00, -3.35508789e-01,  1.12566147e-01],\n",
              "       [ 1.00000000e+00, -5.93070013e-01,  3.51732041e-01],\n",
              "       [ 1.00000000e+00,  1.88537285e+00,  3.55463078e+00],\n",
              "       [ 1.00000000e+00, -9.25274179e-01,  8.56132307e-01],\n",
              "       [ 1.00000000e+00,  1.98225657e+00,  3.92934112e+00],\n",
              "       [ 1.00000000e+00, -1.65128601e+00,  2.72674550e+00],\n",
              "       [ 1.00000000e+00,  1.85713184e+00,  3.44893866e+00],\n",
              "       [ 1.00000000e+00, -2.79613548e+00,  7.81837363e+00],\n",
              "       [ 1.00000000e+00, -7.97825021e-01,  6.36524764e-01],\n",
              "       [ 1.00000000e+00,  2.11065766e+00,  4.45487577e+00],\n",
              "       [ 1.00000000e+00, -2.04680357e+00,  4.18940485e+00],\n",
              "       [ 1.00000000e+00,  2.50788581e+00,  6.28949126e+00],\n",
              "       [ 1.00000000e+00,  2.84234943e+00,  8.07895027e+00],\n",
              "       [ 1.00000000e+00,  6.33404099e-01,  4.01200753e-01],\n",
              "       [ 1.00000000e+00,  4.29805461e-01,  1.84732735e-01],\n",
              "       [ 1.00000000e+00,  1.28455023e+00,  1.65006929e+00],\n",
              "       [ 1.00000000e+00,  1.29787607e+00,  1.68448231e+00],\n",
              "       [ 1.00000000e+00, -1.08187077e-01,  1.17044437e-02],\n",
              "       [ 1.00000000e+00,  1.87475990e+00,  3.51472469e+00],\n",
              "       [ 1.00000000e+00, -1.13966621e+00,  1.29883906e+00],\n",
              "       [ 1.00000000e+00,  2.87085043e+00,  8.24178221e+00],\n",
              "       [ 1.00000000e+00,  1.98887352e+00,  3.95561790e+00],\n",
              "       [ 1.00000000e+00,  1.36001137e+00,  1.84963093e+00],\n",
              "       [ 1.00000000e+00, -1.76158096e+00,  3.10316749e+00]])"
            ]
          },
          "metadata": {},
          "execution_count": 22
        }
      ]
    },
    {
      "cell_type": "code",
      "source": [
        "print('intial size of input:', X_train[0].shape)"
      ],
      "metadata": {
        "colab": {
          "base_uri": "https://localhost:8080/"
        },
        "id": "lE2TVRmwOEz_",
        "outputId": "4dcc080d-21af-4842-9ae7-c3bf1ee53fb0"
      },
      "execution_count": null,
      "outputs": [
        {
          "output_type": "stream",
          "name": "stdout",
          "text": [
            "intial size of input: (1,)\n"
          ]
        }
      ]
    },
    {
      "cell_type": "code",
      "source": [
        "print('intial size of input:', X_train_tran[0].shape)"
      ],
      "metadata": {
        "colab": {
          "base_uri": "https://localhost:8080/"
        },
        "id": "1qoSQX5BPvZc",
        "outputId": "f2938e81-e32e-48a8-b314-fdbc26b4761f"
      },
      "execution_count": null,
      "outputs": [
        {
          "output_type": "stream",
          "name": "stdout",
          "text": [
            "intial size of input: (3,)\n"
          ]
        }
      ]
    },
    {
      "cell_type": "code",
      "source": [
        "lr = LinearRegression()\n",
        "lr.fit(X_train_tran,y_train)"
      ],
      "metadata": {
        "colab": {
          "base_uri": "https://localhost:8080/",
          "height": 74
        },
        "id": "7mNX7bWZP9Zs",
        "outputId": "4ad0378e-fa40-4a5c-b73a-5e4987e3356c"
      },
      "execution_count": null,
      "outputs": [
        {
          "output_type": "execute_result",
          "data": {
            "text/plain": [
              "LinearRegression()"
            ],
            "text/html": [
              "<style>#sk-container-id-2 {color: black;background-color: white;}#sk-container-id-2 pre{padding: 0;}#sk-container-id-2 div.sk-toggleable {background-color: white;}#sk-container-id-2 label.sk-toggleable__label {cursor: pointer;display: block;width: 100%;margin-bottom: 0;padding: 0.3em;box-sizing: border-box;text-align: center;}#sk-container-id-2 label.sk-toggleable__label-arrow:before {content: \"▸\";float: left;margin-right: 0.25em;color: #696969;}#sk-container-id-2 label.sk-toggleable__label-arrow:hover:before {color: black;}#sk-container-id-2 div.sk-estimator:hover label.sk-toggleable__label-arrow:before {color: black;}#sk-container-id-2 div.sk-toggleable__content {max-height: 0;max-width: 0;overflow: hidden;text-align: left;background-color: #f0f8ff;}#sk-container-id-2 div.sk-toggleable__content pre {margin: 0.2em;color: black;border-radius: 0.25em;background-color: #f0f8ff;}#sk-container-id-2 input.sk-toggleable__control:checked~div.sk-toggleable__content {max-height: 200px;max-width: 100%;overflow: auto;}#sk-container-id-2 input.sk-toggleable__control:checked~label.sk-toggleable__label-arrow:before {content: \"▾\";}#sk-container-id-2 div.sk-estimator input.sk-toggleable__control:checked~label.sk-toggleable__label {background-color: #d4ebff;}#sk-container-id-2 div.sk-label input.sk-toggleable__control:checked~label.sk-toggleable__label {background-color: #d4ebff;}#sk-container-id-2 input.sk-hidden--visually {border: 0;clip: rect(1px 1px 1px 1px);clip: rect(1px, 1px, 1px, 1px);height: 1px;margin: -1px;overflow: hidden;padding: 0;position: absolute;width: 1px;}#sk-container-id-2 div.sk-estimator {font-family: monospace;background-color: #f0f8ff;border: 1px dotted black;border-radius: 0.25em;box-sizing: border-box;margin-bottom: 0.5em;}#sk-container-id-2 div.sk-estimator:hover {background-color: #d4ebff;}#sk-container-id-2 div.sk-parallel-item::after {content: \"\";width: 100%;border-bottom: 1px solid gray;flex-grow: 1;}#sk-container-id-2 div.sk-label:hover label.sk-toggleable__label {background-color: #d4ebff;}#sk-container-id-2 div.sk-serial::before {content: \"\";position: absolute;border-left: 1px solid gray;box-sizing: border-box;top: 0;bottom: 0;left: 50%;z-index: 0;}#sk-container-id-2 div.sk-serial {display: flex;flex-direction: column;align-items: center;background-color: white;padding-right: 0.2em;padding-left: 0.2em;position: relative;}#sk-container-id-2 div.sk-item {position: relative;z-index: 1;}#sk-container-id-2 div.sk-parallel {display: flex;align-items: stretch;justify-content: center;background-color: white;position: relative;}#sk-container-id-2 div.sk-item::before, #sk-container-id-2 div.sk-parallel-item::before {content: \"\";position: absolute;border-left: 1px solid gray;box-sizing: border-box;top: 0;bottom: 0;left: 50%;z-index: -1;}#sk-container-id-2 div.sk-parallel-item {display: flex;flex-direction: column;z-index: 1;position: relative;background-color: white;}#sk-container-id-2 div.sk-parallel-item:first-child::after {align-self: flex-end;width: 50%;}#sk-container-id-2 div.sk-parallel-item:last-child::after {align-self: flex-start;width: 50%;}#sk-container-id-2 div.sk-parallel-item:only-child::after {width: 0;}#sk-container-id-2 div.sk-dashed-wrapped {border: 1px dashed gray;margin: 0 0.4em 0.5em 0.4em;box-sizing: border-box;padding-bottom: 0.4em;background-color: white;}#sk-container-id-2 div.sk-label label {font-family: monospace;font-weight: bold;display: inline-block;line-height: 1.2em;}#sk-container-id-2 div.sk-label-container {text-align: center;}#sk-container-id-2 div.sk-container {/* jupyter's `normalize.less` sets `[hidden] { display: none; }` but bootstrap.min.css set `[hidden] { display: none !important; }` so we also need the `!important` here to be able to override the default hidden behavior on the sphinx rendered scikit-learn.org. See: https://github.com/scikit-learn/scikit-learn/issues/21755 */display: inline-block !important;position: relative;}#sk-container-id-2 div.sk-text-repr-fallback {display: none;}</style><div id=\"sk-container-id-2\" class=\"sk-top-container\"><div class=\"sk-text-repr-fallback\"><pre>LinearRegression()</pre><b>In a Jupyter environment, please rerun this cell to show the HTML representation or trust the notebook. <br />On GitHub, the HTML representation is unable to render, please try loading this page with nbviewer.org.</b></div><div class=\"sk-container\" hidden><div class=\"sk-item\"><div class=\"sk-estimator sk-toggleable\"><input class=\"sk-toggleable__control sk-hidden--visually\" id=\"sk-estimator-id-2\" type=\"checkbox\" checked><label for=\"sk-estimator-id-2\" class=\"sk-toggleable__label sk-toggleable__label-arrow\">LinearRegression</label><div class=\"sk-toggleable__content\"><pre>LinearRegression()</pre></div></div></div></div></div>"
            ]
          },
          "metadata": {},
          "execution_count": 26
        }
      ]
    },
    {
      "cell_type": "code",
      "source": [
        "y_pred = lr.predict(X_test_tran)"
      ],
      "metadata": {
        "id": "1dGWjfd3P9W0"
      },
      "execution_count": null,
      "outputs": []
    },
    {
      "cell_type": "code",
      "source": [
        "r2_score(y_pred,y_test)"
      ],
      "metadata": {
        "colab": {
          "base_uri": "https://localhost:8080/"
        },
        "id": "S8er1FD0P9UU",
        "outputId": "f40b61fd-2b80-4c51-b5e5-f61e9bbfa768"
      },
      "execution_count": null,
      "outputs": [
        {
          "output_type": "execute_result",
          "data": {
            "text/plain": [
              "0.9879343526254031"
            ]
          },
          "metadata": {},
          "execution_count": 28
        }
      ]
    },
    {
      "cell_type": "code",
      "source": [
        "lr.coef_"
      ],
      "metadata": {
        "colab": {
          "base_uri": "https://localhost:8080/"
        },
        "id": "lqF5kp_YP9Rg",
        "outputId": "6988724f-e0e1-4eeb-f3fe-2fa556f36344"
      },
      "execution_count": null,
      "outputs": [
        {
          "output_type": "execute_result",
          "data": {
            "text/plain": [
              "array([[0.        , 0.91533758, 0.81175286]])"
            ]
          },
          "metadata": {},
          "execution_count": 29
        }
      ]
    },
    {
      "cell_type": "code",
      "source": [
        "lr.intercept_"
      ],
      "metadata": {
        "colab": {
          "base_uri": "https://localhost:8080/"
        },
        "id": "c7TDYjCPP9OZ",
        "outputId": "c79e6508-0f28-46e5-d18a-12e9c1648454"
      },
      "execution_count": null,
      "outputs": [
        {
          "output_type": "execute_result",
          "data": {
            "text/plain": [
              "array([2.48070542])"
            ]
          },
          "metadata": {},
          "execution_count": 30
        }
      ]
    },
    {
      "cell_type": "code",
      "source": [
        "X_new = np.linspace(-3,3,200).reshape(200,1)\n",
        "X_new_ploy = poly.transform(X_new)\n",
        "y_new = lr.predict(X_new_ploy)"
      ],
      "metadata": {
        "id": "RjgXUnwCP9MG"
      },
      "execution_count": null,
      "outputs": []
    },
    {
      "cell_type": "code",
      "source": [
        "X_new"
      ],
      "metadata": {
        "colab": {
          "base_uri": "https://localhost:8080/"
        },
        "id": "0dqUZ8RTRK_B",
        "outputId": "a16df797-8233-4fa8-b774-c69e7a1de1d3"
      },
      "execution_count": null,
      "outputs": [
        {
          "output_type": "execute_result",
          "data": {
            "text/plain": [
              "array([[-3.        ],\n",
              "       [-2.96984925],\n",
              "       [-2.93969849],\n",
              "       [-2.90954774],\n",
              "       [-2.87939698],\n",
              "       [-2.84924623],\n",
              "       [-2.81909548],\n",
              "       [-2.78894472],\n",
              "       [-2.75879397],\n",
              "       [-2.72864322],\n",
              "       [-2.69849246],\n",
              "       [-2.66834171],\n",
              "       [-2.63819095],\n",
              "       [-2.6080402 ],\n",
              "       [-2.57788945],\n",
              "       [-2.54773869],\n",
              "       [-2.51758794],\n",
              "       [-2.48743719],\n",
              "       [-2.45728643],\n",
              "       [-2.42713568],\n",
              "       [-2.39698492],\n",
              "       [-2.36683417],\n",
              "       [-2.33668342],\n",
              "       [-2.30653266],\n",
              "       [-2.27638191],\n",
              "       [-2.24623116],\n",
              "       [-2.2160804 ],\n",
              "       [-2.18592965],\n",
              "       [-2.15577889],\n",
              "       [-2.12562814],\n",
              "       [-2.09547739],\n",
              "       [-2.06532663],\n",
              "       [-2.03517588],\n",
              "       [-2.00502513],\n",
              "       [-1.97487437],\n",
              "       [-1.94472362],\n",
              "       [-1.91457286],\n",
              "       [-1.88442211],\n",
              "       [-1.85427136],\n",
              "       [-1.8241206 ],\n",
              "       [-1.79396985],\n",
              "       [-1.7638191 ],\n",
              "       [-1.73366834],\n",
              "       [-1.70351759],\n",
              "       [-1.67336683],\n",
              "       [-1.64321608],\n",
              "       [-1.61306533],\n",
              "       [-1.58291457],\n",
              "       [-1.55276382],\n",
              "       [-1.52261307],\n",
              "       [-1.49246231],\n",
              "       [-1.46231156],\n",
              "       [-1.4321608 ],\n",
              "       [-1.40201005],\n",
              "       [-1.3718593 ],\n",
              "       [-1.34170854],\n",
              "       [-1.31155779],\n",
              "       [-1.28140704],\n",
              "       [-1.25125628],\n",
              "       [-1.22110553],\n",
              "       [-1.19095477],\n",
              "       [-1.16080402],\n",
              "       [-1.13065327],\n",
              "       [-1.10050251],\n",
              "       [-1.07035176],\n",
              "       [-1.04020101],\n",
              "       [-1.01005025],\n",
              "       [-0.9798995 ],\n",
              "       [-0.94974874],\n",
              "       [-0.91959799],\n",
              "       [-0.88944724],\n",
              "       [-0.85929648],\n",
              "       [-0.82914573],\n",
              "       [-0.79899497],\n",
              "       [-0.76884422],\n",
              "       [-0.73869347],\n",
              "       [-0.70854271],\n",
              "       [-0.67839196],\n",
              "       [-0.64824121],\n",
              "       [-0.61809045],\n",
              "       [-0.5879397 ],\n",
              "       [-0.55778894],\n",
              "       [-0.52763819],\n",
              "       [-0.49748744],\n",
              "       [-0.46733668],\n",
              "       [-0.43718593],\n",
              "       [-0.40703518],\n",
              "       [-0.37688442],\n",
              "       [-0.34673367],\n",
              "       [-0.31658291],\n",
              "       [-0.28643216],\n",
              "       [-0.25628141],\n",
              "       [-0.22613065],\n",
              "       [-0.1959799 ],\n",
              "       [-0.16582915],\n",
              "       [-0.13567839],\n",
              "       [-0.10552764],\n",
              "       [-0.07537688],\n",
              "       [-0.04522613],\n",
              "       [-0.01507538],\n",
              "       [ 0.01507538],\n",
              "       [ 0.04522613],\n",
              "       [ 0.07537688],\n",
              "       [ 0.10552764],\n",
              "       [ 0.13567839],\n",
              "       [ 0.16582915],\n",
              "       [ 0.1959799 ],\n",
              "       [ 0.22613065],\n",
              "       [ 0.25628141],\n",
              "       [ 0.28643216],\n",
              "       [ 0.31658291],\n",
              "       [ 0.34673367],\n",
              "       [ 0.37688442],\n",
              "       [ 0.40703518],\n",
              "       [ 0.43718593],\n",
              "       [ 0.46733668],\n",
              "       [ 0.49748744],\n",
              "       [ 0.52763819],\n",
              "       [ 0.55778894],\n",
              "       [ 0.5879397 ],\n",
              "       [ 0.61809045],\n",
              "       [ 0.64824121],\n",
              "       [ 0.67839196],\n",
              "       [ 0.70854271],\n",
              "       [ 0.73869347],\n",
              "       [ 0.76884422],\n",
              "       [ 0.79899497],\n",
              "       [ 0.82914573],\n",
              "       [ 0.85929648],\n",
              "       [ 0.88944724],\n",
              "       [ 0.91959799],\n",
              "       [ 0.94974874],\n",
              "       [ 0.9798995 ],\n",
              "       [ 1.01005025],\n",
              "       [ 1.04020101],\n",
              "       [ 1.07035176],\n",
              "       [ 1.10050251],\n",
              "       [ 1.13065327],\n",
              "       [ 1.16080402],\n",
              "       [ 1.19095477],\n",
              "       [ 1.22110553],\n",
              "       [ 1.25125628],\n",
              "       [ 1.28140704],\n",
              "       [ 1.31155779],\n",
              "       [ 1.34170854],\n",
              "       [ 1.3718593 ],\n",
              "       [ 1.40201005],\n",
              "       [ 1.4321608 ],\n",
              "       [ 1.46231156],\n",
              "       [ 1.49246231],\n",
              "       [ 1.52261307],\n",
              "       [ 1.55276382],\n",
              "       [ 1.58291457],\n",
              "       [ 1.61306533],\n",
              "       [ 1.64321608],\n",
              "       [ 1.67336683],\n",
              "       [ 1.70351759],\n",
              "       [ 1.73366834],\n",
              "       [ 1.7638191 ],\n",
              "       [ 1.79396985],\n",
              "       [ 1.8241206 ],\n",
              "       [ 1.85427136],\n",
              "       [ 1.88442211],\n",
              "       [ 1.91457286],\n",
              "       [ 1.94472362],\n",
              "       [ 1.97487437],\n",
              "       [ 2.00502513],\n",
              "       [ 2.03517588],\n",
              "       [ 2.06532663],\n",
              "       [ 2.09547739],\n",
              "       [ 2.12562814],\n",
              "       [ 2.15577889],\n",
              "       [ 2.18592965],\n",
              "       [ 2.2160804 ],\n",
              "       [ 2.24623116],\n",
              "       [ 2.27638191],\n",
              "       [ 2.30653266],\n",
              "       [ 2.33668342],\n",
              "       [ 2.36683417],\n",
              "       [ 2.39698492],\n",
              "       [ 2.42713568],\n",
              "       [ 2.45728643],\n",
              "       [ 2.48743719],\n",
              "       [ 2.51758794],\n",
              "       [ 2.54773869],\n",
              "       [ 2.57788945],\n",
              "       [ 2.6080402 ],\n",
              "       [ 2.63819095],\n",
              "       [ 2.66834171],\n",
              "       [ 2.69849246],\n",
              "       [ 2.72864322],\n",
              "       [ 2.75879397],\n",
              "       [ 2.78894472],\n",
              "       [ 2.81909548],\n",
              "       [ 2.84924623],\n",
              "       [ 2.87939698],\n",
              "       [ 2.90954774],\n",
              "       [ 2.93969849],\n",
              "       [ 2.96984925],\n",
              "       [ 3.        ]])"
            ]
          },
          "metadata": {},
          "execution_count": 32
        }
      ]
    },
    {
      "cell_type": "code",
      "source": [
        "plt.plot(X_new, y_new, \"r-\", linewidth=2, label=\"Predictions\")\n",
        "plt.plot(X_train, y_train, \"b.\",label='Training points')\n",
        "plt.plot(X_test, y_test, \"g.\",label='Testing points')\n",
        "plt.xlabel(\"X\")\n",
        "plt.ylabel(\"y\")\n",
        "plt.legend()\n",
        "plt.show()"
      ],
      "metadata": {
        "colab": {
          "base_uri": "https://localhost:8080/",
          "height": 449
        },
        "id": "OHcHG9GgRK7e",
        "outputId": "5a52dd18-71fb-475b-8a2a-efadc2504922"
      },
      "execution_count": null,
      "outputs": [
        {
          "output_type": "display_data",
          "data": {
            "text/plain": [
              "<Figure size 640x480 with 1 Axes>"
            ],
            "image/png": "[encoded data removed]"
          },
          "metadata": {}
        }
      ]
    },
    {
      "cell_type": "code",
      "source": [
        "def polynomial_regression(degree):\n",
        "    X_new=np.linspace(-3, 3, 100).reshape(100, 1)\n",
        "    X_new_poly = poly.transform(X_new)\n",
        "\n",
        "    polybig_features = PolynomialFeatures(degree=degree, include_bias=False)\n",
        "    std_scaler = StandardScaler()\n",
        "    lin_reg = LinearRegression()\n",
        "    polynomial_regression = Pipeline([\n",
        "            (\"poly_features\", polybig_features),\n",
        "            (\"std_scaler\", std_scaler),\n",
        "            (\"lin_reg\", lin_reg),\n",
        "        ])\n",
        "    polynomial_regression.fit(x, y)\n",
        "    y_newbig = polynomial_regression.predict(X_new)\n",
        "    plt.plot(X_new, y_newbig,'r', label=\"Degree \" + str(degree), linewidth=2)\n",
        "\n",
        "    plt.plot(X_train, y_train, \"b.\", linewidth=3)\n",
        "    plt.plot(X_test, y_test, \"g.\", linewidth=3)\n",
        "    plt.legend(loc=\"upper left\")\n",
        "    plt.xlabel(\"X\")\n",
        "    plt.ylabel(\"y\")\n",
        "    plt.axis([-3, 3, 0, 10])\n",
        "    plt.show()\n"
      ],
      "metadata": {
        "id": "VVrNxmDQRK4v"
      },
      "execution_count": null,
      "outputs": []
    },
    {
      "cell_type": "code",
      "source": [
        "X_new=np.linspace(-3, 3, 100).reshape(100, 1)\n"
      ],
      "metadata": {
        "id": "Naj6CvZ2RK11"
      },
      "execution_count": null,
      "outputs": []
    },
    {
      "cell_type": "code",
      "source": [
        "X_new"
      ],
      "metadata": {
        "colab": {
          "base_uri": "https://localhost:8080/"
        },
        "id": "jv6uW2NcRKoW",
        "outputId": "f729cbbf-3914-477a-e1ee-167388313055"
      },
      "execution_count": null,
      "outputs": [
        {
          "output_type": "execute_result",
          "data": {
            "text/plain": [
              "array([[-3.        ],\n",
              "       [-2.93939394],\n",
              "       [-2.87878788],\n",
              "       [-2.81818182],\n",
              "       [-2.75757576],\n",
              "       [-2.6969697 ],\n",
              "       [-2.63636364],\n",
              "       [-2.57575758],\n",
              "       [-2.51515152],\n",
              "       [-2.45454545],\n",
              "       [-2.39393939],\n",
              "       [-2.33333333],\n",
              "       [-2.27272727],\n",
              "       [-2.21212121],\n",
              "       [-2.15151515],\n",
              "       [-2.09090909],\n",
              "       [-2.03030303],\n",
              "       [-1.96969697],\n",
              "       [-1.90909091],\n",
              "       [-1.84848485],\n",
              "       [-1.78787879],\n",
              "       [-1.72727273],\n",
              "       [-1.66666667],\n",
              "       [-1.60606061],\n",
              "       [-1.54545455],\n",
              "       [-1.48484848],\n",
              "       [-1.42424242],\n",
              "       [-1.36363636],\n",
              "       [-1.3030303 ],\n",
              "       [-1.24242424],\n",
              "       [-1.18181818],\n",
              "       [-1.12121212],\n",
              "       [-1.06060606],\n",
              "       [-1.        ],\n",
              "       [-0.93939394],\n",
              "       [-0.87878788],\n",
              "       [-0.81818182],\n",
              "       [-0.75757576],\n",
              "       [-0.6969697 ],\n",
              "       [-0.63636364],\n",
              "       [-0.57575758],\n",
              "       [-0.51515152],\n",
              "       [-0.45454545],\n",
              "       [-0.39393939],\n",
              "       [-0.33333333],\n",
              "       [-0.27272727],\n",
              "       [-0.21212121],\n",
              "       [-0.15151515],\n",
              "       [-0.09090909],\n",
              "       [-0.03030303],\n",
              "       [ 0.03030303],\n",
              "       [ 0.09090909],\n",
              "       [ 0.15151515],\n",
              "       [ 0.21212121],\n",
              "       [ 0.27272727],\n",
              "       [ 0.33333333],\n",
              "       [ 0.39393939],\n",
              "       [ 0.45454545],\n",
              "       [ 0.51515152],\n",
              "       [ 0.57575758],\n",
              "       [ 0.63636364],\n",
              "       [ 0.6969697 ],\n",
              "       [ 0.75757576],\n",
              "       [ 0.81818182],\n",
              "       [ 0.87878788],\n",
              "       [ 0.93939394],\n",
              "       [ 1.        ],\n",
              "       [ 1.06060606],\n",
              "       [ 1.12121212],\n",
              "       [ 1.18181818],\n",
              "       [ 1.24242424],\n",
              "       [ 1.3030303 ],\n",
              "       [ 1.36363636],\n",
              "       [ 1.42424242],\n",
              "       [ 1.48484848],\n",
              "       [ 1.54545455],\n",
              "       [ 1.60606061],\n",
              "       [ 1.66666667],\n",
              "       [ 1.72727273],\n",
              "       [ 1.78787879],\n",
              "       [ 1.84848485],\n",
              "       [ 1.90909091],\n",
              "       [ 1.96969697],\n",
              "       [ 2.03030303],\n",
              "       [ 2.09090909],\n",
              "       [ 2.15151515],\n",
              "       [ 2.21212121],\n",
              "       [ 2.27272727],\n",
              "       [ 2.33333333],\n",
              "       [ 2.39393939],\n",
              "       [ 2.45454545],\n",
              "       [ 2.51515152],\n",
              "       [ 2.57575758],\n",
              "       [ 2.63636364],\n",
              "       [ 2.6969697 ],\n",
              "       [ 2.75757576],\n",
              "       [ 2.81818182],\n",
              "       [ 2.87878788],\n",
              "       [ 2.93939394],\n",
              "       [ 3.        ]])"
            ]
          },
          "metadata": {},
          "execution_count": 37
        }
      ]
    },
    {
      "cell_type": "code",
      "source": [
        "polynomial_regression(100)"
      ],
      "metadata": {
        "colab": {
          "base_uri": "https://localhost:8080/",
          "height": 455
        },
        "id": "cksSDlsqS-7B",
        "outputId": "bff8d925-3988-48c1-b785-e68eeadf414e"
      },
      "execution_count": null,
      "outputs": [
        {
          "output_type": "display_data",
          "data": {
            "text/plain": [
              "<Figure size 640x480 with 1 Axes>"
            ],
            "image/png": "[encoded data removed]"
          },
          "metadata": {}
        }
      ]
    },
    {
      "cell_type": "code",
      "source": [
        "polynomial_regression(350)"
      ],
      "metadata": {
        "colab": {
          "base_uri": "https://localhost:8080/",
          "height": 528
        },
        "id": "VJFRLqNAS-3j",
        "outputId": "f9c6a5a9-4ce2-4184-f51d-71afb84abc00"
      },
      "execution_count": null,
      "outputs": [
        {
          "output_type": "stream",
          "name": "stderr",
          "text": [
            "/usr/local/lib/python3.10/dist-packages/sklearn/utils/extmath.py:1066: RuntimeWarning: overflow encountered in square\n",
            "  temp **= 2\n",
            "/usr/local/lib/python3.10/dist-packages/numpy/core/fromnumeric.py:88: RuntimeWarning: overflow encountered in reduce\n",
            "  return ufunc.reduce(obj, axis, dtype, out, **passkwargs)\n"
          ]
        },
        {
          "output_type": "display_data",
          "data": {
            "text/plain": [
              "<Figure size 640x480 with 1 Axes>"
            ],
            "image/png": "[encoded data removed]"
          },
          "metadata": {}
        }
      ]
    },
    {
      "cell_type": "code",
      "source": [
        "polynomial_regression(3)# if we give 3,4,it give underfit then 100,350 it comes overfitting"
      ],
      "metadata": {
        "colab": {
          "base_uri": "https://localhost:8080/",
          "height": 455
        },
        "id": "Eh64KmuHS-0q",
        "outputId": "25bbe802-7f3f-4a08-e80b-2f4d9053d0ba"
      },
      "execution_count": null,
      "outputs": [
        {
          "output_type": "display_data",
          "data": {
            "text/plain": [
              "<Figure size 640x480 with 1 Axes>"
            ],
            "image/png": "[encoded data removed]"
          },
          "metadata": {}
        }
      ]
    },
    {
      "cell_type": "code",
      "source": [
        "poly.powers_"
      ],
      "metadata": {
        "colab": {
          "base_uri": "https://localhost:8080/"
        },
        "id": "oIM--UbIS-yI",
        "outputId": "e5561db0-e840-423d-9e51-8821360341c7"
      },
      "execution_count": null,
      "outputs": [
        {
          "output_type": "execute_result",
          "data": {
            "text/plain": [
              "array([[0],\n",
              "       [1],\n",
              "       [2]])"
            ]
          },
          "metadata": {},
          "execution_count": 41
        }
      ]
    },
    {
      "cell_type": "code",
      "source": [
        "# Applying Gradient Descent\n",
        "\n",
        "poly = PolynomialFeatures(degree=5)\n",
        "\n",
        "X_train_trans = poly.fit_transform(X_train)\n",
        "X_test_trans = poly.transform(X_test)\n",
        "\n",
        "sgd = SGDRegressor(max_iter=100)\n",
        "sgd.fit(X_train_trans,y_train)\n",
        "\n",
        "X_new=np.linspace(-2.9, 2.8, 200).reshape(200, 1)\n",
        "X_new_poly = poly.transform(X_new)\n",
        "y_new = sgd.predict(X_new_poly)\n",
        "\n",
        "y_pred = sgd.predict(X_test_trans)\n",
        "\n",
        "plt.plot(X_new, y_new, \"r-\", linewidth=2, label=\"Predictions \" + str(round(r2_score(y_test,y_pred),2)))\n",
        "plt.plot(X_train, y_train, \"b.\",label='Training points')\n",
        "plt.plot(X_test, y_test, \"g.\",label='Testing points')\n",
        "plt.xlabel(\"X\")\n",
        "plt.ylabel(\"y\")\n",
        "plt.legend()\n",
        "plt.show()"
      ],
      "metadata": {
        "colab": {
          "base_uri": "https://localhost:8080/",
          "height": 521
        },
        "id": "tuEunYU1S-vZ",
        "outputId": "b23e88d0-eca1-4177-ed7b-1c41b94dcc7f"
      },
      "execution_count": null,
      "outputs": [
        {
          "output_type": "stream",
          "name": "stderr",
          "text": [
            "/usr/local/lib/python3.10/dist-packages/sklearn/utils/validation.py:1143: DataConversionWarning: A column-vector y was passed when a 1d array was expected. Please change the shape of y to (n_samples, ), for example using ravel().\n",
            "  y = column_or_1d(y, warn=True)\n"
          ]
        },
        {
          "output_type": "display_data",
          "data": {
            "text/plain": [
              "<Figure size 640x480 with 1 Axes>"
            ],
            "image/png": "[encoded data removed]"
          },
          "metadata": {}
        }
      ]
    },
    {
      "cell_type": "code",
      "source": [],
      "metadata": {
        "id": "gW1tZRLyS-oY"
      },
      "execution_count": null,
      "outputs": []
    }
  ]
}